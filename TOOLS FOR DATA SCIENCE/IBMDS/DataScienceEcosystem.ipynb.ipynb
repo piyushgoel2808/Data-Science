{
 "cells": [
  {
   "cell_type": "markdown",
   "id": "897595d6-a990-4b3e-b1a9-a09282ca0e93",
   "metadata": {},
   "source": [
    "<h1>Data Science Tools and Ecosystem<h1>"
   ]
  },
  {
   "cell_type": "markdown",
   "id": "574a4278-cb4f-4287-b276-f31efabe86bc",
   "metadata": {},
   "source": [
    "In this notebook, Data Science Tools and Ecosystem are summarized"
   ]
  },
  {
   "cell_type": "markdown",
   "id": "1174dc9a-ecf5-4657-84e9-e6beae8f3e8c",
   "metadata": {},
   "source": [
    "Some of the popular languages that Data Scientists use are:\n",
    "<ol>\n",
    "<li>Python</li>\n",
    "<li>R</li>\n",
    "<li>Julia</li>\n",
    "<li>Java</li>\n",
    "</ol>"
   ]
  },
  {
   "cell_type": "markdown",
   "id": "5784240f-07ca-4454-b572-c4eb8ec692d7",
   "metadata": {},
   "source": [
    "Some of the commonly used libraries used by Data Scientists include:\n",
    "<ol>\n",
    "<li>TensorFlow</li>\n",
    "<li>NumPy</li>\n",
    "<li>SciPy</li>\n",
    "<li>Pandas</li>\n",
    "<li>Matplotlib</li>\n",
    "</ol>"
   ]
  },
  {
   "cell_type": "code",
   "execution_count": 6,
   "id": "97183422-b85f-4ae1-8b9b-7be14aaa92e2",
   "metadata": {
    "tags": []
   },
   "outputs": [
    {
     "ename": "SyntaxError",
     "evalue": "invalid syntax (212129358.py, line 3)",
     "output_type": "error",
     "traceback": [
      "\u001b[1;36m  Cell \u001b[1;32mIn[6], line 3\u001b[1;36m\u001b[0m\n\u001b[1;33m    | --- | --- | --- |\u001b[0m\n\u001b[1;37m    ^\u001b[0m\n\u001b[1;31mSyntaxError\u001b[0m\u001b[1;31m:\u001b[0m invalid syntax\n"
     ]
    }
   ],
   "source": [
    "### Results\n",
    "\n",
    "| --- | --- | --- |\n",
    "| Stretch/Untouched | ProbDistribution | Accuracy |\n",
    "| --- | --- | --- |\n",
    "| Stretched | Gaussian | .843 |"
   ]
  },
  {
   "cell_type": "markdown",
   "id": "d419c200-73e4-4354-aea0-523947b43e2c",
   "metadata": {},
   "source": [
    "<h3>Below are a few examples of evaluating arithmetic expressions in Python<h3>"
   ]
  },
  {
   "cell_type": "code",
   "execution_count": 7,
   "id": "853db6db-0c85-4195-ada4-67197c2e7698",
   "metadata": {
    "tags": []
   },
   "outputs": [
    {
     "data": {
      "text/plain": [
       "17"
      ]
     },
     "execution_count": 7,
     "metadata": {},
     "output_type": "execute_result"
    }
   ],
   "source": [
    "# this a simple arithmetic expression to mutiply then add integers\n",
    "(3*4)+5\n",
    "# Result : 17"
   ]
  },
  {
   "cell_type": "code",
   "execution_count": 10,
   "id": "cc9e5be3-ea3b-46e4-8fe2-b0599e0791d0",
   "metadata": {
    "tags": []
   },
   "outputs": [
    {
     "name": "stdout",
     "output_type": "stream",
     "text": [
      "3.3333333333333335 mins. \n"
     ]
    }
   ],
   "source": [
    "hours = 0\n",
    "mins = 0\n",
    "\n",
    "leftover_minutes = 200\n",
    "hours = leftover_minutes / 60\n",
    "#This will convert 200 minutes to hours by diving by 60\n",
    "print(str(hours)+\" mins. \")"
   ]
  },
  {
   "cell_type": "code",
   "execution_count": 11,
   "id": "8978cb57-c139-4fe2-815f-c127ebc6ddda",
   "metadata": {
    "tags": []
   },
   "outputs": [
    {
     "ename": "SyntaxError",
     "evalue": "invalid syntax (2561302854.py, line 1)",
     "output_type": "error",
     "traceback": [
      "\u001b[1;36m  Cell \u001b[1;32mIn[11], line 1\u001b[1;36m\u001b[0m\n\u001b[1;33m    In this notebook, Data Science Tools and Ecosystem are summarized<br>\u001b[0m\n\u001b[1;37m       ^\u001b[0m\n\u001b[1;31mSyntaxError\u001b[0m\u001b[1;31m:\u001b[0m invalid syntax\n"
     ]
    }
   ],
   "source": [
    "In this notebook, Data Science Tools and Ecosystem are summarized<br>\n",
    "__objectives__\n",
    "*  List popular languages that Data Scientists use.\n",
    "*  List commonly used libraries used by Data Scientists.\n",
    "*  Comment on Data Science tools."
   ]
  },
  {
   "cell_type": "code",
   "execution_count": 17,
   "id": "f711a62b-9893-4105-8be0-1c908292e70a",
   "metadata": {
    "tags": []
   },
   "outputs": [
    {
     "ename": "SyntaxError",
     "evalue": "invalid syntax (819583111.py, line 1)",
     "output_type": "error",
     "traceback": [
      "\u001b[1;36m  Cell \u001b[1;32mIn[17], line 1\u001b[1;36m\u001b[0m\n\u001b[1;33m    <h1>Data Science Tools and Ecosystem<h1>\u001b[0m\n\u001b[1;37m    ^\u001b[0m\n\u001b[1;31mSyntaxError\u001b[0m\u001b[1;31m:\u001b[0m invalid syntax\n"
     ]
    }
   ],
   "source": [
    "<h1>Data Science Tools and Ecosystem<h1>"
   ]
  },
  {
   "cell_type": "code",
   "execution_count": null,
   "id": "1af85c5b-51c8-4192-ac79-07d062974d24",
   "metadata": {},
   "outputs": [],
   "source": []
  }
 ],
 "metadata": {
  "kernelspec": {
   "display_name": "Python 3 (ipykernel)",
   "language": "python",
   "name": "python3"
  },
  "language_info": {
   "codemirror_mode": {
    "name": "ipython",
    "version": 3
   },
   "file_extension": ".py",
   "mimetype": "text/x-python",
   "name": "python",
   "nbconvert_exporter": "python",
   "pygments_lexer": "ipython3",
   "version": "3.11.3"
  }
 },
 "nbformat": 4,
 "nbformat_minor": 5
}
