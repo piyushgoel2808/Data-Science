{
 "cells": [
  {
   "cell_type": "markdown",
   "id": "0983e14e-43b9-4533-bde1-7c71a11fd945",
   "metadata": {},
   "source": [
    "##vudsvgdvgfvg\n",
    "dsbhcvvsddv"
   ]
  },
  {
   "cell_type": "code",
   "execution_count": 1,
   "id": "bac59f07-0457-4366-b623-941bf54dd1af",
   "metadata": {
    "tags": []
   },
   "outputs": [
    {
     "name": "stdout",
     "output_type": "stream",
     "text": [
      "hell\n"
     ]
    }
   ],
   "source": [
    "print(\"hell\")"
   ]
  },
  {
   "cell_type": "code",
   "execution_count": null,
   "id": "1ba679c3-8cca-4454-9de6-6b500de05c91",
   "metadata": {},
   "outputs": [],
   "source": []
  }
 ],
 "metadata": {
  "kernelspec": {
   "display_name": "Python 3 (ipykernel)",
   "language": "python",
   "name": "python3"
  },
  "language_info": {
   "codemirror_mode": {
    "name": "ipython",
    "version": 3
   },
   "file_extension": ".py",
   "mimetype": "text/x-python",
   "name": "python",
   "nbconvert_exporter": "python",
   "pygments_lexer": "ipython3",
   "version": "3.11.3"
  }
 },
 "nbformat": 4,
 "nbformat_minor": 5
}
